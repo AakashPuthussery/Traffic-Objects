{
 "cells": [
  {
   "cell_type": "code",
   "execution_count": 28,
   "metadata": {},
   "outputs": [],
   "source": [
    "import cv2"
   ]
  },
  {
   "cell_type": "code",
   "execution_count": 1,
   "metadata": {},
   "outputs": [
    {
     "name": "stdout",
     "output_type": "stream",
     "text": [
      "Downloading https://github.com/ultralytics/assets/releases/download/v8.1.0/yolov8n.pt to 'yolov8n.pt'...\n"
     ]
    },
    {
     "name": "stderr",
     "output_type": "stream",
     "text": [
      "100%|██████████| 6.23M/6.23M [00:03<00:00, 1.77MB/s]\n"
     ]
    }
   ],
   "source": [
    "from ultralytics import YOLO\n",
    "model = YOLO(\"yolov8n.pt\")"
   ]
  },
  {
   "cell_type": "code",
   "execution_count": 2,
   "metadata": {},
   "outputs": [
    {
     "name": "stdout",
     "output_type": "stream",
     "text": [
      "\n",
      "image 1/1 F:\\IISc bnglr\\edited.jpg: 544x640 2 persons, 1 motorcycle, 693.8ms\n",
      "Speed: 45.8ms preprocess, 693.8ms inference, 61.5ms postprocess per image at shape (1, 3, 544, 640)\n"
     ]
    },
    {
     "data": {
      "text/plain": [
       "[ultralytics.engine.results.Results object with attributes:\n",
       " \n",
       " boxes: ultralytics.engine.results.Boxes object\n",
       " keypoints: None\n",
       " masks: None\n",
       " names: {0: 'person', 1: 'bicycle', 2: 'car', 3: 'motorcycle', 4: 'airplane', 5: 'bus', 6: 'train', 7: 'truck', 8: 'boat', 9: 'traffic light', 10: 'fire hydrant', 11: 'stop sign', 12: 'parking meter', 13: 'bench', 14: 'bird', 15: 'cat', 16: 'dog', 17: 'horse', 18: 'sheep', 19: 'cow', 20: 'elephant', 21: 'bear', 22: 'zebra', 23: 'giraffe', 24: 'backpack', 25: 'umbrella', 26: 'handbag', 27: 'tie', 28: 'suitcase', 29: 'frisbee', 30: 'skis', 31: 'snowboard', 32: 'sports ball', 33: 'kite', 34: 'baseball bat', 35: 'baseball glove', 36: 'skateboard', 37: 'surfboard', 38: 'tennis racket', 39: 'bottle', 40: 'wine glass', 41: 'cup', 42: 'fork', 43: 'knife', 44: 'spoon', 45: 'bowl', 46: 'banana', 47: 'apple', 48: 'sandwich', 49: 'orange', 50: 'broccoli', 51: 'carrot', 52: 'hot dog', 53: 'pizza', 54: 'donut', 55: 'cake', 56: 'chair', 57: 'couch', 58: 'potted plant', 59: 'bed', 60: 'dining table', 61: 'toilet', 62: 'tv', 63: 'laptop', 64: 'mouse', 65: 'remote', 66: 'keyboard', 67: 'cell phone', 68: 'microwave', 69: 'oven', 70: 'toaster', 71: 'sink', 72: 'refrigerator', 73: 'book', 74: 'clock', 75: 'vase', 76: 'scissors', 77: 'teddy bear', 78: 'hair drier', 79: 'toothbrush'}\n",
       " obb: None\n",
       " orig_img: array([[[16, 16, 16],\n",
       "         [16, 16, 16],\n",
       "         [16, 16, 16],\n",
       "         ...,\n",
       "         [18, 26, 25],\n",
       "         [17, 25, 24],\n",
       "         [17, 25, 24]],\n",
       " \n",
       "        [[17, 17, 17],\n",
       "         [17, 17, 17],\n",
       "         [17, 17, 17],\n",
       "         ...,\n",
       "         [18, 26, 25],\n",
       "         [15, 23, 22],\n",
       "         [15, 23, 22]],\n",
       " \n",
       "        [[18, 18, 18],\n",
       "         [18, 18, 18],\n",
       "         [18, 18, 18],\n",
       "         ...,\n",
       "         [18, 24, 23],\n",
       "         [11, 20, 17],\n",
       "         [11, 20, 17]],\n",
       " \n",
       "        ...,\n",
       " \n",
       "        [[20, 20, 20],\n",
       "         [17, 17, 17],\n",
       "         [17, 17, 17],\n",
       "         ...,\n",
       "         [23, 22, 26],\n",
       "         [20, 19, 23],\n",
       "         [17, 16, 20]],\n",
       " \n",
       "        [[16, 16, 16],\n",
       "         [17, 17, 17],\n",
       "         [17, 16, 18],\n",
       "         ...,\n",
       "         [22, 23, 27],\n",
       "         [21, 22, 26],\n",
       "         [20, 21, 25]],\n",
       " \n",
       "        [[16, 16, 16],\n",
       "         [16, 16, 16],\n",
       "         [17, 16, 18],\n",
       "         ...,\n",
       "         [22, 23, 27],\n",
       "         [23, 24, 28],\n",
       "         [22, 23, 27]]], dtype=uint8)\n",
       " orig_shape: (3138, 3786)\n",
       " path: 'F:\\\\IISc bnglr\\\\edited.jpg'\n",
       " probs: None\n",
       " save_dir: 'runs\\\\detect\\\\predict'\n",
       " speed: {'preprocess': 45.81570625305176, 'inference': 693.8157081604004, 'postprocess': 61.5231990814209}]"
      ]
     },
     "execution_count": 2,
     "metadata": {},
     "output_type": "execute_result"
    }
   ],
   "source": [
    "model.predict('F:\\IISc bnglr\\edited.jpg')"
   ]
  },
  {
   "cell_type": "code",
   "execution_count": 14,
   "metadata": {},
   "outputs": [],
   "source": [
    "Image = r'F:\\\\IISc bnglr\\\\edited.jpg'\n",
    "# output = r'F:\\\\IISc bnglr\\\\new.jpg'"
   ]
  },
  {
   "cell_type": "code",
   "execution_count": 36,
   "metadata": {},
   "outputs": [],
   "source": [
    "image_path = 'F:\\IISc bnglr\\_MG_8744.jpg'\n",
    "original_image = cv2.imread(image_path)"
   ]
  },
  {
   "cell_type": "code",
   "execution_count": 38,
   "metadata": {},
   "outputs": [],
   "source": [
    "resized_image = cv2.resize(original_image, (256, 256))"
   ]
  },
  {
   "cell_type": "code",
   "execution_count": 45,
   "metadata": {},
   "outputs": [
    {
     "name": "stdout",
     "output_type": "stream",
     "text": [
      "\n",
      "image 1/1 F:\\IISc bnglr\\edited.jpg: 544x640 2 persons, 1 motorcycle, 123.3ms\n",
      "Speed: 7.0ms preprocess, 123.3ms inference, 2.1ms postprocess per image at shape (1, 3, 544, 640)\n",
      "Results saved to \u001b[1mruns\\detect\\predict\u001b[0m\n",
      "[ultralytics.engine.results.Results object with attributes:\n",
      "\n",
      "boxes: ultralytics.engine.results.Boxes object\n",
      "keypoints: None\n",
      "masks: None\n",
      "names: {0: 'person', 1: 'bicycle', 2: 'car', 3: 'motorcycle', 4: 'airplane', 5: 'bus', 6: 'train', 7: 'truck', 8: 'boat', 9: 'traffic light', 10: 'fire hydrant', 11: 'stop sign', 12: 'parking meter', 13: 'bench', 14: 'bird', 15: 'cat', 16: 'dog', 17: 'horse', 18: 'sheep', 19: 'cow', 20: 'elephant', 21: 'bear', 22: 'zebra', 23: 'giraffe', 24: 'backpack', 25: 'umbrella', 26: 'handbag', 27: 'tie', 28: 'suitcase', 29: 'frisbee', 30: 'skis', 31: 'snowboard', 32: 'sports ball', 33: 'kite', 34: 'baseball bat', 35: 'baseball glove', 36: 'skateboard', 37: 'surfboard', 38: 'tennis racket', 39: 'bottle', 40: 'wine glass', 41: 'cup', 42: 'fork', 43: 'knife', 44: 'spoon', 45: 'bowl', 46: 'banana', 47: 'apple', 48: 'sandwich', 49: 'orange', 50: 'broccoli', 51: 'carrot', 52: 'hot dog', 53: 'pizza', 54: 'donut', 55: 'cake', 56: 'chair', 57: 'couch', 58: 'potted plant', 59: 'bed', 60: 'dining table', 61: 'toilet', 62: 'tv', 63: 'laptop', 64: 'mouse', 65: 'remote', 66: 'keyboard', 67: 'cell phone', 68: 'microwave', 69: 'oven', 70: 'toaster', 71: 'sink', 72: 'refrigerator', 73: 'book', 74: 'clock', 75: 'vase', 76: 'scissors', 77: 'teddy bear', 78: 'hair drier', 79: 'toothbrush'}\n",
      "obb: None\n",
      "orig_img: array([[[16, 16, 16],\n",
      "        [16, 16, 16],\n",
      "        [16, 16, 16],\n",
      "        ...,\n",
      "        [18, 26, 25],\n",
      "        [17, 25, 24],\n",
      "        [17, 25, 24]],\n",
      "\n",
      "       [[17, 17, 17],\n",
      "        [17, 17, 17],\n",
      "        [17, 17, 17],\n",
      "        ...,\n",
      "        [18, 26, 25],\n",
      "        [15, 23, 22],\n",
      "        [15, 23, 22]],\n",
      "\n",
      "       [[18, 18, 18],\n",
      "        [18, 18, 18],\n",
      "        [18, 18, 18],\n",
      "        ...,\n",
      "        [18, 24, 23],\n",
      "        [11, 20, 17],\n",
      "        [11, 20, 17]],\n",
      "\n",
      "       ...,\n",
      "\n",
      "       [[20, 20, 20],\n",
      "        [17, 17, 17],\n",
      "        [17, 17, 17],\n",
      "        ...,\n",
      "        [23, 22, 26],\n",
      "        [20, 19, 23],\n",
      "        [17, 16, 20]],\n",
      "\n",
      "       [[16, 16, 16],\n",
      "        [17, 17, 17],\n",
      "        [17, 16, 18],\n",
      "        ...,\n",
      "        [22, 23, 27],\n",
      "        [21, 22, 26],\n",
      "        [20, 21, 25]],\n",
      "\n",
      "       [[16, 16, 16],\n",
      "        [16, 16, 16],\n",
      "        [17, 16, 18],\n",
      "        ...,\n",
      "        [22, 23, 27],\n",
      "        [23, 24, 28],\n",
      "        [22, 23, 27]]], dtype=uint8)\n",
      "orig_shape: (3138, 3786)\n",
      "path: 'F:\\\\IISc bnglr\\\\edited.jpg'\n",
      "probs: None\n",
      "save_dir: 'runs\\\\detect\\\\predict'\n",
      "speed: {'preprocess': 6.98399543762207, 'inference': 123.28600883483887, 'postprocess': 2.1407604217529297}]\n"
     ]
    }
   ],
   "source": [
    "results = model.predict(Image, save=True, imgsz=640, conf=0.5)\n",
    "print(results)"
   ]
  },
  {
   "cell_type": "code",
   "execution_count": 51,
   "metadata": {},
   "outputs": [
    {
     "ename": "TypeError",
     "evalue": "cannot unpack non-iterable numpy.float32 object",
     "output_type": "error",
     "traceback": [
      "\u001b[1;31m---------------------------------------------------------------------------\u001b[0m",
      "\u001b[1;31mTypeError\u001b[0m                                 Traceback (most recent call last)",
      "Cell \u001b[1;32mIn[51], line 15\u001b[0m\n\u001b[0;32m     11\u001b[0m names \u001b[38;5;241m=\u001b[39m result\u001b[38;5;241m.\u001b[39mnames\n\u001b[0;32m     13\u001b[0m \u001b[38;5;28;01mfor\u001b[39;00m box, class_name \u001b[38;5;129;01min\u001b[39;00m \u001b[38;5;28mzip\u001b[39m(boxes, names\u001b[38;5;241m.\u001b[39mvalues()): \n\u001b[0;32m     14\u001b[0m     \u001b[38;5;66;03m# Extract coordinates\u001b[39;00m\n\u001b[1;32m---> 15\u001b[0m     x1, y1, x2, y2 \u001b[38;5;241m=\u001b[39m box\n\u001b[0;32m     17\u001b[0m     \u001b[38;5;66;03m# Draw rectangle\u001b[39;00m\n\u001b[0;32m     18\u001b[0m     cv2\u001b[38;5;241m.\u001b[39mrectangle(resized_image, (\u001b[38;5;28mint\u001b[39m(x1), \u001b[38;5;28mint\u001b[39m(y1)), (\u001b[38;5;28mint\u001b[39m(x2), \u001b[38;5;28mint\u001b[39m(y2)), (\u001b[38;5;241m0\u001b[39m, \u001b[38;5;241m255\u001b[39m, \u001b[38;5;241m0\u001b[39m), thickness)\n",
      "\u001b[1;31mTypeError\u001b[0m: cannot unpack non-iterable numpy.float32 object"
     ]
    }
   ],
   "source": [
    "# Define font parameters\n",
    "font = cv2.FONT_HERSHEY_SIMPLEX\n",
    "font_scale = 0.5\n",
    "color = (255, 255, 255)  # White color\n",
    "thickness = 1\n",
    "line_type = cv2.LINE_AA\n",
    "\n",
    "# Iterate through the results\n",
    "for result in results:\n",
    "    boxes = result.boxes.xyxy[0].cpu().numpy()  # Assuming boxes is in this format\n",
    "    names = result.names\n",
    "\n",
    "    for box, class_name in zip(boxes, names.values()): \n",
    "        # Extract coordinates\n",
    "        x1, y1, x2, y2 = box\n",
    "\n",
    "        # Draw rectangle\n",
    "        cv2.rectangle(resized_image, (int(x1), int(y1)), (int(x2), int(y2)), (0, 255, 0), thickness)\n",
    "\n",
    "        # Add class name text\n",
    "        text_size = cv2.getTextSize(class_name, font, font_scale, thickness)[0]\n",
    "        text_x = x1\n",
    "        text_y = y1 - 5 if y1 - 5 > text_size[1] else y1 + 20\n",
    "        cv2.putText(resized_image, class_name, (int(text_x), int(text_y)), font, font_scale, color, thickness, line_type)\n",
    "\n",
    "\n",
    "\n",
    "# Display the resized image with bounding boxes and labels\n",
    "cv2.imshow('Results', resized_image)\n",
    "cv2.waitKey(0)\n",
    "cv2.destroyAllWindows()"
   ]
  },
  {
   "cell_type": "code",
   "execution_count": 40,
   "metadata": {},
   "outputs": [],
   "source": [
    "cv2.imshow('Results', original_image)\n",
    "cv2.waitKey(0)\n",
    "cv2.destroyAllWindows()"
   ]
  },
  {
   "cell_type": "code",
   "execution_count": null,
   "metadata": {},
   "outputs": [],
   "source": []
  },
  {
   "cell_type": "code",
   "execution_count": 26,
   "metadata": {},
   "outputs": [],
   "source": [
    "import cv2"
   ]
  },
  {
   "cell_type": "code",
   "execution_count": 27,
   "metadata": {},
   "outputs": [
    {
     "ename": "error",
     "evalue": "OpenCV(4.9.0) :-1: error: (-5:Bad argument) in function 'imshow'\n> Overload resolution failed:\n>  - mat is not a numpy array, neither a scalar\n>  - Expected Ptr<cv::cuda::GpuMat> for argument 'mat'\n>  - Expected Ptr<cv::UMat> for argument 'mat'\n",
     "output_type": "error",
     "traceback": [
      "\u001b[1;31m---------------------------------------------------------------------------\u001b[0m",
      "\u001b[1;31merror\u001b[0m                                     Traceback (most recent call last)",
      "Cell \u001b[1;32mIn[27], line 1\u001b[0m\n\u001b[1;32m----> 1\u001b[0m \u001b[43mcv2\u001b[49m\u001b[38;5;241;43m.\u001b[39;49m\u001b[43mimshow\u001b[49m\u001b[43m(\u001b[49m\u001b[38;5;124;43m'\u001b[39;49m\u001b[38;5;124;43mResults\u001b[39;49m\u001b[38;5;124;43m'\u001b[39;49m\u001b[43m,\u001b[49m\u001b[43m \u001b[49m\u001b[43mresults\u001b[49m\u001b[43m)\u001b[49m\n\u001b[0;32m      2\u001b[0m cv2\u001b[38;5;241m.\u001b[39mwaitKey(\u001b[38;5;241m0\u001b[39m)\n\u001b[0;32m      3\u001b[0m cv2\u001b[38;5;241m.\u001b[39mdestroyAllWindows()\n",
      "File \u001b[1;32md:\\python\\lib\\site-packages\\ultralytics\\utils\\patches.py:56\u001b[0m, in \u001b[0;36mimshow\u001b[1;34m(winname, mat)\u001b[0m\n\u001b[0;32m     48\u001b[0m \u001b[38;5;28;01mdef\u001b[39;00m \u001b[38;5;21mimshow\u001b[39m(winname: \u001b[38;5;28mstr\u001b[39m, mat: np\u001b[38;5;241m.\u001b[39mndarray):\n\u001b[0;32m     49\u001b[0m \u001b[38;5;250m    \u001b[39m\u001b[38;5;124;03m\"\"\"\u001b[39;00m\n\u001b[0;32m     50\u001b[0m \u001b[38;5;124;03m    Displays an image in the specified window.\u001b[39;00m\n\u001b[0;32m     51\u001b[0m \n\u001b[1;32m   (...)\u001b[0m\n\u001b[0;32m     54\u001b[0m \u001b[38;5;124;03m        mat (np.ndarray): Image to be shown.\u001b[39;00m\n\u001b[0;32m     55\u001b[0m \u001b[38;5;124;03m    \"\"\"\u001b[39;00m\n\u001b[1;32m---> 56\u001b[0m     \u001b[43m_imshow\u001b[49m\u001b[43m(\u001b[49m\u001b[43mwinname\u001b[49m\u001b[38;5;241;43m.\u001b[39;49m\u001b[43mencode\u001b[49m\u001b[43m(\u001b[49m\u001b[38;5;124;43m\"\u001b[39;49m\u001b[38;5;124;43municode_escape\u001b[39;49m\u001b[38;5;124;43m\"\u001b[39;49m\u001b[43m)\u001b[49m\u001b[38;5;241;43m.\u001b[39;49m\u001b[43mdecode\u001b[49m\u001b[43m(\u001b[49m\u001b[43m)\u001b[49m\u001b[43m,\u001b[49m\u001b[43m \u001b[49m\u001b[43mmat\u001b[49m\u001b[43m)\u001b[49m\n",
      "\u001b[1;31merror\u001b[0m: OpenCV(4.9.0) :-1: error: (-5:Bad argument) in function 'imshow'\n> Overload resolution failed:\n>  - mat is not a numpy array, neither a scalar\n>  - Expected Ptr<cv::cuda::GpuMat> for argument 'mat'\n>  - Expected Ptr<cv::UMat> for argument 'mat'\n"
     ]
    }
   ],
   "source": [
    "cv2.imshow('Results', results)\n",
    "cv2.waitKey(0)\n",
    "cv2.destroyAllWindows()"
   ]
  },
  {
   "cell_type": "code",
   "execution_count": 15,
   "metadata": {},
   "outputs": [
    {
     "name": "stdout",
     "output_type": "stream",
     "text": [
      "\n",
      "image 1/1 F:\\IISc bnglr\\edited.jpg: 544x640 2 persons, 1 motorcycle, 108.5ms\n",
      "Speed: 4.2ms preprocess, 108.5ms inference, 2.0ms postprocess per image at shape (1, 3, 544, 640)\n",
      "[ultralytics.engine.results.Results object with attributes:\n",
      "\n",
      "boxes: ultralytics.engine.results.Boxes object\n",
      "keypoints: None\n",
      "masks: None\n",
      "names: {0: 'person', 1: 'bicycle', 2: 'car', 3: 'motorcycle', 4: 'airplane', 5: 'bus', 6: 'train', 7: 'truck', 8: 'boat', 9: 'traffic light', 10: 'fire hydrant', 11: 'stop sign', 12: 'parking meter', 13: 'bench', 14: 'bird', 15: 'cat', 16: 'dog', 17: 'horse', 18: 'sheep', 19: 'cow', 20: 'elephant', 21: 'bear', 22: 'zebra', 23: 'giraffe', 24: 'backpack', 25: 'umbrella', 26: 'handbag', 27: 'tie', 28: 'suitcase', 29: 'frisbee', 30: 'skis', 31: 'snowboard', 32: 'sports ball', 33: 'kite', 34: 'baseball bat', 35: 'baseball glove', 36: 'skateboard', 37: 'surfboard', 38: 'tennis racket', 39: 'bottle', 40: 'wine glass', 41: 'cup', 42: 'fork', 43: 'knife', 44: 'spoon', 45: 'bowl', 46: 'banana', 47: 'apple', 48: 'sandwich', 49: 'orange', 50: 'broccoli', 51: 'carrot', 52: 'hot dog', 53: 'pizza', 54: 'donut', 55: 'cake', 56: 'chair', 57: 'couch', 58: 'potted plant', 59: 'bed', 60: 'dining table', 61: 'toilet', 62: 'tv', 63: 'laptop', 64: 'mouse', 65: 'remote', 66: 'keyboard', 67: 'cell phone', 68: 'microwave', 69: 'oven', 70: 'toaster', 71: 'sink', 72: 'refrigerator', 73: 'book', 74: 'clock', 75: 'vase', 76: 'scissors', 77: 'teddy bear', 78: 'hair drier', 79: 'toothbrush'}\n",
      "obb: None\n",
      "orig_img: array([[[16, 16, 16],\n",
      "        [16, 16, 16],\n",
      "        [16, 16, 16],\n",
      "        ...,\n",
      "        [18, 26, 25],\n",
      "        [17, 25, 24],\n",
      "        [17, 25, 24]],\n",
      "\n",
      "       [[17, 17, 17],\n",
      "        [17, 17, 17],\n",
      "        [17, 17, 17],\n",
      "        ...,\n",
      "        [18, 26, 25],\n",
      "        [15, 23, 22],\n",
      "        [15, 23, 22]],\n",
      "\n",
      "       [[18, 18, 18],\n",
      "        [18, 18, 18],\n",
      "        [18, 18, 18],\n",
      "        ...,\n",
      "        [18, 24, 23],\n",
      "        [11, 20, 17],\n",
      "        [11, 20, 17]],\n",
      "\n",
      "       ...,\n",
      "\n",
      "       [[20, 20, 20],\n",
      "        [17, 17, 17],\n",
      "        [17, 17, 17],\n",
      "        ...,\n",
      "        [23, 22, 26],\n",
      "        [20, 19, 23],\n",
      "        [17, 16, 20]],\n",
      "\n",
      "       [[16, 16, 16],\n",
      "        [17, 17, 17],\n",
      "        [17, 16, 18],\n",
      "        ...,\n",
      "        [22, 23, 27],\n",
      "        [21, 22, 26],\n",
      "        [20, 21, 25]],\n",
      "\n",
      "       [[16, 16, 16],\n",
      "        [16, 16, 16],\n",
      "        [17, 16, 18],\n",
      "        ...,\n",
      "        [22, 23, 27],\n",
      "        [23, 24, 28],\n",
      "        [22, 23, 27]]], dtype=uint8)\n",
      "orig_shape: (3138, 3786)\n",
      "path: 'F:\\\\IISc bnglr\\\\edited.jpg'\n",
      "probs: None\n",
      "save_dir: 'runs\\\\detect\\\\predict'\n",
      "speed: {'preprocess': 4.196882247924805, 'inference': 108.53457450866699, 'postprocess': 1.9943714141845703}]\n"
     ]
    }
   ],
   "source": [
    "predict_gen = model.predict(Image)\n",
    "print(predict_gen)\n"
   ]
  },
  {
   "cell_type": "code",
   "execution_count": 16,
   "metadata": {},
   "outputs": [],
   "source": [
    "import cv2"
   ]
  },
  {
   "cell_type": "code",
   "execution_count": 17,
   "metadata": {},
   "outputs": [
    {
     "name": "stdout",
     "output_type": "stream",
     "text": [
      "Predicted image saved at: F:\\\\IISc bnglr\\\\new.jpg0.jpg\n"
     ]
    }
   ],
   "source": [
    "for i, predicted_image in enumerate(predict_gen):\n",
    "    output_image_path = f\"{output}{i}.jpg\"  # Append index to the output image path\n",
    "    cv2.imwrite(output_image_path, predicted_image)\n",
    "    print(\"Predicted image saved at:\", output_image_path)"
   ]
  },
  {
   "cell_type": "code",
   "execution_count": 21,
   "metadata": {},
   "outputs": [
    {
     "ename": "error",
     "evalue": "OpenCV(4.9.0) :-1: error: (-5:Bad argument) in function 'imshow'\n> Overload resolution failed:\n>  - mat is not a numpy array, neither a scalar\n>  - Expected Ptr<cv::cuda::GpuMat> for argument 'mat'\n>  - Expected Ptr<cv::UMat> for argument 'mat'\n",
     "output_type": "error",
     "traceback": [
      "\u001b[1;31m---------------------------------------------------------------------------\u001b[0m",
      "\u001b[1;31merror\u001b[0m                                     Traceback (most recent call last)",
      "Cell \u001b[1;32mIn[21], line 6\u001b[0m\n\u001b[0;32m      3\u001b[0m predicted_image_np \u001b[38;5;241m=\u001b[39m \u001b[38;5;241m.\u001b[39m\u001b[38;5;241m.\u001b[39m\u001b[38;5;241m.\u001b[39m  \u001b[38;5;66;03m# Convert predicted_image to numpy array if necessary\u001b[39;00m\n\u001b[0;32m      5\u001b[0m \u001b[38;5;66;03m# Display the image\u001b[39;00m\n\u001b[1;32m----> 6\u001b[0m \u001b[43mcv2\u001b[49m\u001b[38;5;241;43m.\u001b[39;49m\u001b[43mimshow\u001b[49m\u001b[43m(\u001b[49m\u001b[38;5;124;43mf\u001b[39;49m\u001b[38;5;124;43m\"\u001b[39;49m\u001b[38;5;124;43mPredicted Image \u001b[39;49m\u001b[38;5;132;43;01m{\u001b[39;49;00m\u001b[43mi\u001b[49m\u001b[38;5;132;43;01m}\u001b[39;49;00m\u001b[38;5;124;43m\"\u001b[39;49m\u001b[43m,\u001b[49m\u001b[43m \u001b[49m\u001b[43mpredicted_image_np\u001b[49m\u001b[43m)\u001b[49m\n\u001b[0;32m      7\u001b[0m cv2\u001b[38;5;241m.\u001b[39mwaitKey(\u001b[38;5;241m0\u001b[39m)  \u001b[38;5;66;03m# Wait indefinitely for a key press\u001b[39;00m\n\u001b[0;32m      8\u001b[0m cv2\u001b[38;5;241m.\u001b[39mdestroyAllWindows() \n",
      "File \u001b[1;32md:\\python\\lib\\site-packages\\ultralytics\\utils\\patches.py:56\u001b[0m, in \u001b[0;36mimshow\u001b[1;34m(winname, mat)\u001b[0m\n\u001b[0;32m     48\u001b[0m \u001b[38;5;28;01mdef\u001b[39;00m \u001b[38;5;21mimshow\u001b[39m(winname: \u001b[38;5;28mstr\u001b[39m, mat: np\u001b[38;5;241m.\u001b[39mndarray):\n\u001b[0;32m     49\u001b[0m \u001b[38;5;250m    \u001b[39m\u001b[38;5;124;03m\"\"\"\u001b[39;00m\n\u001b[0;32m     50\u001b[0m \u001b[38;5;124;03m    Displays an image in the specified window.\u001b[39;00m\n\u001b[0;32m     51\u001b[0m \n\u001b[1;32m   (...)\u001b[0m\n\u001b[0;32m     54\u001b[0m \u001b[38;5;124;03m        mat (np.ndarray): Image to be shown.\u001b[39;00m\n\u001b[0;32m     55\u001b[0m \u001b[38;5;124;03m    \"\"\"\u001b[39;00m\n\u001b[1;32m---> 56\u001b[0m     \u001b[43m_imshow\u001b[49m\u001b[43m(\u001b[49m\u001b[43mwinname\u001b[49m\u001b[38;5;241;43m.\u001b[39;49m\u001b[43mencode\u001b[49m\u001b[43m(\u001b[49m\u001b[38;5;124;43m\"\u001b[39;49m\u001b[38;5;124;43municode_escape\u001b[39;49m\u001b[38;5;124;43m\"\u001b[39;49m\u001b[43m)\u001b[49m\u001b[38;5;241;43m.\u001b[39;49m\u001b[43mdecode\u001b[49m\u001b[43m(\u001b[49m\u001b[43m)\u001b[49m\u001b[43m,\u001b[49m\u001b[43m \u001b[49m\u001b[43mmat\u001b[49m\u001b[43m)\u001b[49m\n",
      "\u001b[1;31merror\u001b[0m: OpenCV(4.9.0) :-1: error: (-5:Bad argument) in function 'imshow'\n> Overload resolution failed:\n>  - mat is not a numpy array, neither a scalar\n>  - Expected Ptr<cv::cuda::GpuMat> for argument 'mat'\n>  - Expected Ptr<cv::UMat> for argument 'mat'\n"
     ]
    }
   ],
   "source": [
    "for i, predicted_image in enumerate(predict_gen):\n",
    "    # Convert the predicted image to the correct format (e.g., numpy array)\n",
    "    predicted_image_np = ...  # Convert predicted_image to numpy array if necessary\n",
    "    \n",
    "    # Display the image\n",
    "    cv2.imshow(f\"Predicted Image {i}\", predicted_image_np)\n",
    "    cv2.waitKey(0)  # Wait indefinitely for a key press\n",
    "    cv2.destroyAllWindows() "
   ]
  }
 ],
 "metadata": {
  "kernelspec": {
   "display_name": "Python 3",
   "language": "python",
   "name": "python3"
  },
  "language_info": {
   "codemirror_mode": {
    "name": "ipython",
    "version": 3
   },
   "file_extension": ".py",
   "mimetype": "text/x-python",
   "name": "python",
   "nbconvert_exporter": "python",
   "pygments_lexer": "ipython3",
   "version": "3.10.7"
  }
 },
 "nbformat": 4,
 "nbformat_minor": 2
}
